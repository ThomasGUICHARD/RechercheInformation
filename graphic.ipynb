{
 "cells": [
  {
   "cell_type": "code",
   "execution_count": 63,
   "source": [
    "from os import listdir, makedirs\r\n",
    "from matplotlib import pyplot as plt\r\n",
    "import numpy as np\r\n",
    "from typing import List, Dict, Any"
   ],
   "outputs": [],
   "metadata": {}
  },
  {
   "cell_type": "code",
   "execution_count": 66,
   "source": [
    "makedirs(\"output\", exist_ok=True)"
   ],
   "outputs": [],
   "metadata": {}
  },
  {
   "cell_type": "code",
   "execution_count": 40,
   "source": [
    "PATH = \"results_runs2/runs2_res\"\r\n",
    "\r\n",
    "files = [(f\"{PATH}/{f}\", f) for f in listdir(PATH)]\r\n",
    "\r\n",
    "data = {}\r\n",
    "for f, fn in files:\r\n",
    "    names = \".\".join(fn.split(\".\")[:-2]).split(\"_\")\r\n",
    "    algo = names[2]\r\n",
    "    gran = names[3]\r\n",
    "    stop = names[4]\r\n",
    "    stem = names[5]\r\n",
    "\r\n",
    "    options = {}\r\n",
    "\r\n",
    "    if algo == \"bm25\":\r\n",
    "        options[\"k1\"] = float(names[6][1:])\r\n",
    "        options[\"b\"] = float(names[7][1:])\r\n",
    "\r\n",
    "    agp = []\r\n",
    "    with open(f) as fd:\r\n",
    "        lines = fd.readlines()\r\n",
    "\r\n",
    "    for i in range(7):\r\n",
    "        agp.append(float(lines[21 + 7 * 21].split()[2]))\r\n",
    "    \r\n",
    "    magp = float(lines[155].split()[2])\r\n",
    "\r\n",
    "    data[f] = {\r\n",
    "        \"agp\": agp,\r\n",
    "        \"magp\": magp,\r\n",
    "        \"algo\": algo,\r\n",
    "        \"gran\": gran,\r\n",
    "        \"stop\": stop,\r\n",
    "        \"stem\": stem,\r\n",
    "        \"options\": options\r\n",
    "    }\r\n",
    "\r\n",
    "algo_data = {}\r\n",
    "for k, v in data.items():\r\n",
    "    a = v[\"algo\"]\r\n",
    "    if a in algo_data:\r\n",
    "        algo_data[a].append(v)\r\n",
    "    else:\r\n",
    "        algo_data[a] = [v]"
   ],
   "outputs": [],
   "metadata": {}
  },
  {
   "cell_type": "code",
   "execution_count": 41,
   "source": [
    "algos = [a for a in algo_data]\r\n",
    "algos"
   ],
   "outputs": [
    {
     "output_type": "execute_result",
     "data": {
      "text/plain": [
       "['ltc', 'ltn', 'bm25']"
      ]
     },
     "metadata": {},
     "execution_count": 41
    }
   ],
   "metadata": {}
  },
  {
   "cell_type": "code",
   "execution_count": 57,
   "source": [
    "def plot_lt(algo: str):\r\n",
    "    x = []\r\n",
    "    y = []\r\n",
    "    for ada in algo_data[algo]:\r\n",
    "        stem = ada[\"stem\"]\r\n",
    "        stop = ada[\"stop\"]\r\n",
    "        magp = ada[\"magp\"]\r\n",
    "\r\n",
    "        x.append(magp)\r\n",
    "        y.append(f\"[{stem} / {stop}]\")\r\n",
    "\r\n",
    "    pos = np.arange(len(y))\r\n",
    "\r\n",
    "    plt.barh(pos,\r\n",
    "                x, \r\n",
    "                tick_label=y,\r\n",
    "                align='center',\r\n",
    "                height=0.5,\r\n",
    "        )\r\n"
   ],
   "outputs": [],
   "metadata": {}
  },
  {
   "cell_type": "markdown",
   "source": [
    "## Formule LTN\r\n",
    "\r\n",
    "$$\\text{LTN}_{t,d} = 1 + \\log tf_{t,d} \\times \\frac{N}{n}$$"
   ],
   "metadata": {}
  },
  {
   "cell_type": "code",
   "execution_count": 71,
   "source": [
    "plot_lt(\"ltn\")\r\n",
    "plt.savefig(\"output/ltn.png\",bbox_inches='tight')"
   ],
   "outputs": [
    {
     "output_type": "display_data",
     "data": {
      "image/png": "[encoded data removed]",
      "text/plain": [
       "<Figure size 432x288 with 1 Axes>"
      ]
     },
     "metadata": {
      "needs_background": "light"
     }
    }
   ],
   "metadata": {}
  },
  {
   "cell_type": "markdown",
   "source": [
    "## Formule LTC\r\n",
    "\r\n",
    "$$ \\text{LTC}_{t,d} = \\frac{\\text{LTN}_{t,d}}{\\sqrt{\\sum_{t'} \\text{LTN}_{t',d}^2}} $$"
   ],
   "metadata": {}
  },
  {
   "cell_type": "code",
   "execution_count": 72,
   "source": [
    "plot_lt(\"ltc\")\r\n",
    "plt.savefig(\"output/ltc.png\",bbox_inches='tight')\r\n"
   ],
   "outputs": [
    {
     "output_type": "display_data",
     "data": {
      "image/png": "[encoded data removed]",
      "text/plain": [
       "<Figure size 432x288 with 1 Axes>"
      ]
     },
     "metadata": {
      "needs_background": "light"
     }
    }
   ],
   "metadata": {}
  },
  {
   "cell_type": "code",
   "execution_count": 70,
   "source": [
    "plot_lt(\"ltn\")\r\n",
    "plot_lt(\"ltc\")\r\n",
    "plt.savefig(\"output/ltntlc.png\",bbox_inches='tight')\r\n"
   ],
   "outputs": [
    {
     "output_type": "display_data",
     "data": {
      "image/png": "[encoded data removed]",
      "text/plain": [
       "<Figure size 432x288 with 1 Axes>"
      ]
     },
     "metadata": {
      "needs_background": "light"
     }
    }
   ],
   "metadata": {}
  },
  {
   "cell_type": "code",
   "execution_count": null,
   "source": [],
   "outputs": [],
   "metadata": {}
  }
 ],
 "metadata": {
  "orig_nbformat": 4,
  "language_info": {
   "name": "python",
   "version": "3.6.5",
   "mimetype": "text/x-python",
   "codemirror_mode": {
    "name": "ipython",
    "version": 3
   },
   "pygments_lexer": "ipython3",
   "nbconvert_exporter": "python",
   "file_extension": ".py"
  },
  "kernelspec": {
   "name": "python3",
   "display_name": "Python 3.6.5 32-bit"
  },
  "interpreter": {
   "hash": "57cfaf7ae39dfc2f07a92088bcd7ce56d640e98cc0c5ad17dc614ed0711db135"
  }
 },
 "nbformat": 4,
 "nbformat_minor": 2
}