{
 "cells": [
  {
   "cell_type": "code",
   "execution_count": 3,
   "metadata": {},
   "outputs": [],
   "source": [
    "from typing import List, Generator, Set\n",
    "import re"
   ]
  },
  {
   "cell_type": "code",
   "execution_count": 11,
   "metadata": {},
   "outputs": [],
   "source": [
    "questions = \"\"\"\n",
    "information on cars\n",
    "information on cars\n",
    "red cars and red trucks\n",
    "\"\"\".strip().split(\"\\n\")\n",
    "answers = \"\"\"\n",
    "information on trucks, information on planes, information on trains\n",
    "all you've ever wanted to know about cars\n",
    "cops stop red cars more often\n",
    "\"\"\".strip().split(\"\\n\")\n"
   ]
  },
  {
   "cell_type": "code",
   "execution_count": 5,
   "metadata": {},
   "outputs": [],
   "source": [
    "def get_token(s: str) -> List[str]:\n",
    "    return re.findall(\"\\w+\", s)"
   ]
  },
  {
   "cell_type": "code",
   "execution_count": 15,
   "metadata": {},
   "outputs": [
    {
     "name": "stdout",
     "output_type": "stream",
     "text": [
      "q0: 0.3333333333333333\n",
      "q1: 0.09090909090909091\n",
      "q2: 0.25\n"
     ]
    }
   ],
   "source": [
    "tokens_q = [set(get_token(q)) for q in questions]\n",
    "tokens_a = [set(get_token(a)) for a in answers]\n",
    "\n",
    "i = 0\n",
    "\n",
    "for q, a in zip(tokens_a, tokens_q):\n",
    "    print(\"q\", i, \": \", (len(a.intersection(q)) / len(a.union(q))), sep=\"\")\n",
    "    i += 1"
   ]
  }
 ],
 "metadata": {
  "interpreter": {
   "hash": "63fd5069d213b44bf678585dea6b12cceca9941eaf7f819626cde1f2670de90d"
  },
  "kernelspec": {
   "display_name": "Python 3.9.5 64-bit",
   "name": "python3"
  },
  "language_info": {
   "codemirror_mode": {
    "name": "ipython",
    "version": 3
   },
   "file_extension": ".py",
   "mimetype": "text/x-python",
   "name": "python",
   "nbconvert_exporter": "python",
   "pygments_lexer": "ipython3",
   "version": "3.9.5"
  },
  "orig_nbformat": 4
 },
 "nbformat": 4,
 "nbformat_minor": 2
}
