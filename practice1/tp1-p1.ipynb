{
    "cells": [
        {
            "cell_type": "code",
            "execution_count": 60,
            "source": [
                "import re\n",
                "from typing import Tuple"
            ],
            "outputs": [],
            "metadata": {}
        },
        {
            "cell_type": "code",
            "execution_count": 61,
            "source": [
                "doc_read_pattern = re.compile(\"<doc><docno>([^<]*)</docno>([^<]*)</doc>\")\n",
                "\n",
                "def read_doc(text: str) -> Tuple[str, str]:\n",
                "    matcher = doc_read_pattern.search(text)\n",
                "    if matcher == None:\n",
                "        return None, None\n",
                "    return matcher.group(1), matcher.group(2)\n"
            ],
            "outputs": [],
            "metadata": {}
        },
        {
            "cell_type": "code",
            "execution_count": 62,
            "source": [
                "with open(\"doc.txt\", \"r\") as f:\n",
                "    lines = f.readlines()"
            ],
            "outputs": [],
            "metadata": {}
        },
        {
            "cell_type": "code",
            "execution_count": 63,
            "source": [
                "words_list = {}\n",
                "words_im = {}\n",
                "inci_matrix_wordid = {}\n",
                "inci_matrix = []\n",
                "inci_lines = []\n",
                "\n",
                "for i in range(len(lines)):\n",
                "    line = lines[i]\n",
                "    docno, doctext = read_doc(line)\n",
                "    if docno == None:\n",
                "        continue\n",
                "    \n",
                "    inci_lines.append(docno)\n",
                "    words = re.findall('\\w+', doctext)\n",
                "    words_line = []\n",
                "    for w in words:\n",
                "        key = w.lower()\n",
                "        if key not in words_line:\n",
                "            words_line.append(key)\n",
                "        \n",
                "\n",
                "        # Fill word count \n",
                "\n",
                "        if key in words_list:\n",
                "            words_list[key] += 1\n",
                "        else:\n",
                "            words_list[key] = 1\n",
                "\n",
                "        # Fill inverted index\n",
                "\n",
                "        if key not in words_im:\n",
                "            words_im[key] = [docno]\n",
                "        elif docno not in words_im[key]:\n",
                "            words_im[key].append(docno)\n",
                "    \n",
                "        # Fill incidence matrix\n",
                "\n",
                "        if key not in inci_matrix_wordid:\n",
                "            inci_matrix_wordid[key] = len(inci_matrix)\n",
                "            inci_matrix.append([0 for _ in range(len(lines))])\n",
                "            \n",
                "        inci_matrix[inci_matrix_wordid[key]][i] = 1\n"
            ],
            "outputs": [],
            "metadata": {}
        },
        {
            "cell_type": "code",
            "execution_count": 67,
            "source": [
                "print(\"## Word counts\")\r\n",
                "\r\n",
                "print(\"{0:16} Count\".format(\"Name\"))\r\n",
                "\r\n",
                "for w in sorted(words_list):\r\n",
                "    print(\"{0:16} {1}\".format(w, words_list[w]))\r\n"
            ],
            "outputs": [
                {
                    "output_type": "stream",
                    "name": "stdout",
                    "text": [
                        "## Word counts\n",
                        "Name             Count\n",
                        "arabia           1\n",
                        "casablanca       1\n",
                        "citezen          1\n",
                        "godfather        2\n",
                        "gone             1\n",
                        "graduate         1\n",
                        "in               1\n",
                        "kane             1\n",
                        "lawrence         1\n",
                        "list             1\n",
                        "of               3\n",
                        "on               1\n",
                        "oz               2\n",
                        "rain             1\n",
                        "s                1\n",
                        "schindler        1\n",
                        "singin           1\n",
                        "the              8\n",
                        "waterfront       1\n",
                        "wind             1\n",
                        "with             1\n",
                        "wizard           2\n"
                    ]
                }
            ],
            "metadata": {}
        },
        {
            "cell_type": "code",
            "execution_count": null,
            "source": [
                "print(\"## Inverted index\")\r\n",
                "\r\n",
                "print(\"{0:16} Document(s)\".format(\"Word\"))\r\n",
                "for w in sorted(words_im):\r\n",
                "    print(\"{0:16} {1}\".format(w, \", \".join(words_im[w])))\r\n"
            ],
            "outputs": [
                {
                    "output_type": "stream",
                    "name": "stdout",
                    "text": [
                        "## Inverted index\n",
                        "Word             Document(s)\n",
                        "arabia           {D4}\n",
                        "casablanca       {D1}\n",
                        "citezen          {D0}\n",
                        "godfather        {D2}\n",
                        "gone             {D3}\n",
                        "graduate         {D6}\n",
                        "in               {D9}\n",
                        "kane             {D0}\n",
                        "lawrence         {D4}\n",
                        "list             {D8}\n",
                        "of               {D4, D5}\n",
                        "on               {D7}\n",
                        "oz               {D5}\n",
                        "rain             {D9}\n",
                        "s                {D8}\n",
                        "schindler        {D8}\n",
                        "singin           {D9}\n",
                        "the              {D2, D3, D5, D6, D7, D9}\n",
                        "waterfront       {D7}\n",
                        "wind             {D3}\n",
                        "with             {D3}\n",
                        "wizard           {D5}\n"
                    ]
                }
            ],
            "metadata": {}
        },
        {
            "cell_type": "code",
            "execution_count": 70,
            "source": [
                "print(\"## Incidence matrix\")\r\n",
                "\r\n",
                "print(\"{0:16} {1}\".format(\"Word \\\\ Document\", \" \".join(\r\n",
                "    \"{0:>4}\".format(d) for d in inci_lines)))\r\n",
                "\r\n",
                "for w in sorted(inci_matrix_wordid):\r\n",
                "    print(\"{0:16} {1}\".format(w, \" \".join(\"{0:4}\".format(m)\r\n",
                "                                          for m in inci_matrix[inci_matrix_wordid[w]])))\r\n"
            ],
            "outputs": [
                {
                    "output_type": "stream",
                    "name": "stdout",
                    "text": [
                        "## Incidence matrix\n",
                        "Word \\ Document    D0   D1   D2   D3   D4   D5   D6   D7   D8   D9\n",
                        "arabia              0    0    0    0    1    0    0    0    0    0\n",
                        "casablanca          0    1    0    0    0    0    0    0    0    0\n",
                        "citezen             1    0    0    0    0    0    0    0    0    0\n",
                        "godfather           0    0    1    0    0    0    0    0    0    0\n",
                        "gone                0    0    0    1    0    0    0    0    0    0\n",
                        "graduate            0    0    0    0    0    0    1    0    0    0\n",
                        "in                  0    0    0    0    0    0    0    0    0    1\n",
                        "kane                1    0    0    0    0    0    0    0    0    0\n",
                        "lawrence            0    0    0    0    1    0    0    0    0    0\n",
                        "list                0    0    0    0    0    0    0    0    1    0\n",
                        "of                  0    0    0    0    1    1    0    0    0    0\n",
                        "on                  0    0    0    0    0    0    0    1    0    0\n",
                        "oz                  0    0    0    0    0    1    0    0    0    0\n",
                        "rain                0    0    0    0    0    0    0    0    0    1\n",
                        "s                   0    0    0    0    0    0    0    0    1    0\n",
                        "schindler           0    0    0    0    0    0    0    0    1    0\n",
                        "singin              0    0    0    0    0    0    0    0    0    1\n",
                        "the                 0    0    1    1    0    1    1    1    0    1\n",
                        "waterfront          0    0    0    0    0    0    0    1    0    0\n",
                        "wind                0    0    0    1    0    0    0    0    0    0\n",
                        "with                0    0    0    1    0    0    0    0    0    0\n",
                        "wizard              0    0    0    0    0    1    0    0    0    0\n"
                    ]
                }
            ],
            "metadata": {}
        },
        {
            "cell_type": "code",
            "execution_count": null,
            "source": [],
            "outputs": [],
            "metadata": {}
        }
    ],
    "metadata": {
        "orig_nbformat": 4,
        "language_info": {
            "name": "python",
            "version": "3.9.7",
            "mimetype": "text/x-python",
            "codemirror_mode": {
                "name": "ipython",
                "version": 3
            },
            "pygments_lexer": "ipython3",
            "nbconvert_exporter": "python",
            "file_extension": ".py"
        },
        "kernelspec": {
            "name": "python3",
            "display_name": "Python 3.9.7 64-bit"
        },
        "interpreter": {
            "hash": "916dbcbb3f70747c44a77c7bcd40155683ae19c65e1c03b4aa3499c5328201f1"
        }
    },
    "nbformat": 4,
    "nbformat_minor": 2
}